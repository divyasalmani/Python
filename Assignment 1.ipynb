{
 "cells": [
  {
   "cell_type": "markdown",
   "metadata": {},
   "source": [
    "***Subtraction of 2 and 3 numbers &***\n",
    "***Multiplication of 2 and 3 numbers***"
   ]
  },
  {
   "cell_type": "code",
   "execution_count": 4,
   "metadata": {},
   "outputs": [
    {
     "name": "stdout",
     "output_type": "stream",
     "text": [
      "Sub of A & B -1\n",
      "Sub of A & B & C -8\n",
      "Mul of A & B 30\n",
      "Mul of B & C 42\n"
     ]
    }
   ],
   "source": [
    "A=5\n",
    "B=6\n",
    "C=7\n",
    "\n",
    "diff= A-B\n",
    "diff2=A-B-C\n",
    "Product=A*B\n",
    "Product2=B*C\n",
    "\n",
    "print(\"Sub of A & B\",diff)\n",
    "print(\"Sub of A & B & C\",diff2)\n",
    "print(\"Mul of A & B\",Product)\n",
    "print(\"Mul of B & C\",Product2)"
   ]
  },
  {
   "cell_type": "markdown",
   "metadata": {},
   "source": [
    "***Division Find its quotient and reminder***"
   ]
  },
  {
   "cell_type": "code",
   "execution_count": 5,
   "metadata": {},
   "outputs": [
    {
     "name": "stdout",
     "output_type": "stream",
     "text": [
      "Quotient: 2\n",
      "Remainder: 0\n"
     ]
    }
   ],
   "source": [
    "dividend = 8\n",
    "divisor = 4\n",
    "\n",
    "quotient = dividend // divisor\n",
    "remainder = dividend % divisor\n",
    "\n",
    "print(\"Quotient:\", quotient)\n",
    "print(\"Remainder:\", remainder)\n"
   ]
  },
  {
   "cell_type": "markdown",
   "metadata": {},
   "source": [
    "***Squaring of 2 numbers***"
   ]
  },
  {
   "cell_type": "code",
   "execution_count": 9,
   "metadata": {},
   "outputs": [
    {
     "name": "stdout",
     "output_type": "stream",
     "text": [
      "Square of the first number: 100\n",
      "Square of the second number: 25\n"
     ]
    }
   ],
   "source": [
    "number1 = 10\n",
    "number2 = 5\n",
    "\n",
    "square1 = number1 ** 2\n",
    "square2 = number2 ** 2\n",
    "\n",
    "print(\"Square of the first number:\", square1)\n",
    "print(\"Square of the second number:\", square2)\n"
   ]
  },
  {
   "cell_type": "markdown",
   "metadata": {},
   "source": [
    "***Finding square Root of a number***"
   ]
  },
  {
   "cell_type": "code",
   "execution_count": 7,
   "metadata": {},
   "outputs": [
    {
     "name": "stdout",
     "output_type": "stream",
     "text": [
      "Square root of the number: 2.23606797749979\n"
     ]
    }
   ],
   "source": [
    "number = 5\n",
    "square_root = number ** 0.5\n",
    "\n",
    "print(\"Square root of the number:\", square_root)"
   ]
  },
  {
   "cell_type": "markdown",
   "metadata": {},
   "source": [
    "***Straight line***"
   ]
  },
  {
   "cell_type": "code",
   "execution_count": 1,
   "metadata": {},
   "outputs": [
    {
     "name": "stdout",
     "output_type": "stream",
     "text": [
      "23\n"
     ]
    }
   ],
   "source": [
    "c=8\n",
    "m=3\n",
    "x=5\n",
    "\n",
    "y=m*x+c\n",
    "print(y)"
   ]
  }
 ],
 "metadata": {
  "kernelspec": {
   "display_name": "Python 3",
   "language": "python",
   "name": "python3"
  },
  "language_info": {
   "codemirror_mode": {
    "name": "ipython",
    "version": 3
   },
   "file_extension": ".py",
   "mimetype": "text/x-python",
   "name": "python",
   "nbconvert_exporter": "python",
   "pygments_lexer": "ipython3",
   "version": "3.11.4"
  },
  "orig_nbformat": 4
 },
 "nbformat": 4,
 "nbformat_minor": 2
}
